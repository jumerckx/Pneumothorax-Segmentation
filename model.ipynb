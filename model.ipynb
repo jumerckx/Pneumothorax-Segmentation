{
 "cells": [
  {
   "cell_type": "code",
   "execution_count": 1,
   "metadata": {},
   "outputs": [],
   "source": [
    "include(\"./data.jl\")\n",
    "using Flux, CuArrays\n",
    "using Flux: @treelike"
   ]
  },
  {
   "cell_type": "code",
   "execution_count": 4,
   "metadata": {},
   "outputs": [],
   "source": [
    "UNetConvBlock(in_chs, out_chs, kernel = (3, 3)) =\n",
    "    Chain(Conv(kernel, in_chs=>out_chs, relu, pad = (1, 1)),\n",
    "          Conv(kernel, out_chs=>out_chs, relu, pad = (1, 1)))\n",
    "\n",
    "struct UNetUpBlock\n",
    "    upsample\n",
    "    conv_layer\n",
    "end\n",
    "\n",
    "@treelike UNetUpBlock\n",
    "\n",
    "UNetUpBlock(in_chs::Int, out_chs::Int, kernel = (3, 3)) =\n",
    "    UNetUpBlock(ConvTranspose((2, 2), in_chs=>out_chs, stride=(2, 2)),\n",
    "                Chain(Conv(kernel, in_chs=>out_chs, relu, pad=(1, 1)),\n",
    "                      Conv(kernel, out_chs=>out_chs, relu, pad=(1, 1))))\n",
    "\n",
    "function (u::UNetUpBlock)(x, bridge)\n",
    "    x = u.upsample(x)\n",
    "    # Since we know the image dimensions from beforehand we might as well not use the center_crop\n",
    "    # u.conv_layer(cat(x, center_crop(bridge, size(x, 1), size(x, 2)), dims = 3))\n",
    "    u.conv_layer(cat(x, bridge, dims = 3))\n",
    "end\n",
    "\n",
    "struct UNet\n",
    "    pool_layer\n",
    "    conv_blocks\n",
    "    up_blocks\n",
    "end\n",
    "\n",
    "@treelike UNet\n",
    "\n",
    "# This is to be used for Background and Foreground segmentation\n",
    "function UNet()\n",
    "    pool_layer = MaxPool((2, 2))\n",
    "    conv_blocks = (UNetConvBlock(1, 64), UNetConvBlock(64, 128), UNetConvBlock(128, 256),\n",
    "                   UNetConvBlock(256, 512), UNetConvBlock(512, 1024))\n",
    "    up_blocks = (UNetUpBlock(1024, 512), UNetUpBlock(512, 256), UNetUpBlock(256, 128),\n",
    "                 UNetUpBlock(128, 64), Conv((1, 1), 64=>1))\n",
    "    UNet(pool_layer, conv_blocks, up_blocks)\n",
    "end\n",
    "\n",
    "function (u::UNet)(x)\n",
    "    outputs = Vector(undef, 5)\n",
    "    outputs[1] = u.conv_blocks[1](x)\n",
    "    for i in 2:5\n",
    "        pool_x = u.pool_layer(outputs[i - 1])\n",
    "        outputs[i] = u.conv_blocks[i](pool_x)\n",
    "    end\n",
    "    up_x = outputs[end]\n",
    "    for i in 1:4\n",
    "        up_x = u.up_blocks[i](up_x, outputs[end - i])\n",
    "    end\n",
    "    u.up_blocks[end](up_x)\n",
    "end"
   ]
  },
  {
   "cell_type": "code",
   "execution_count": 32,
   "metadata": {},
   "outputs": [
    {
     "data": {
      "text/plain": [
       "UNet(MaxPool((2, 2), pad = (0, 0, 0, 0), stride = (2, 2)), (Chain(Conv((3, 3), 1=>64, NNlib.relu), Conv((3, 3), 64=>64, NNlib.relu)), Chain(Conv((3, 3), 64=>128, NNlib.relu), Conv((3, 3), 128=>128, NNlib.relu)), Chain(Conv((3, 3), 128=>256, NNlib.relu), Conv((3, 3), 256=>256, NNlib.relu)), Chain(Conv((3, 3), 256=>512, NNlib.relu), Conv((3, 3), 512=>512, NNlib.relu)), Chain(Conv((3, 3), 512=>1024, NNlib.relu), Conv((3, 3), 1024=>1024, NNlib.relu))), (UNetUpBlock(ConvTranspose((2, 2), 1024=>512), Chain(Conv((3, 3), 1024=>512, NNlib.relu), Conv((3, 3), 512=>512, NNlib.relu))), UNetUpBlock(ConvTranspose((2, 2), 512=>256), Chain(Conv((3, 3), 512=>256, NNlib.relu), Conv((3, 3), 256=>256, NNlib.relu))), UNetUpBlock(ConvTranspose((2, 2), 256=>128), Chain(Conv((3, 3), 256=>128, NNlib.relu), Conv((3, 3), 128=>128, NNlib.relu))), UNetUpBlock(ConvTranspose((2, 2), 128=>64), Chain(Conv((3, 3), 128=>64, NNlib.relu), Conv((3, 3), 64=>64, NNlib.relu))), Conv((1, 1), 64=>1)))"
      ]
     },
     "execution_count": 32,
     "metadata": {},
     "output_type": "execute_result"
    }
   ],
   "source": [
    "test = UNet()|>gpu"
   ]
  },
  {
   "cell_type": "code",
   "execution_count": 33,
   "metadata": {},
   "outputs": [
    {
     "data": {
      "text/plain": [
       "Base.Generator{Base.Iterators.PartitionIterator{Array{String,1}},getfield(Main, Symbol(\"##16#17\")){Tuple{Int64,Int64},DataFrames.DataFrame}}(getfield(Main, Symbol(\"##16#17\")){Tuple{Int64,Int64},DataFrames.DataFrame}((128, 128), 11582×2 DataFrames.DataFrame. Omitted printing of 1 columns\n",
       "│ Row   │ ImageId                                                 │\n",
       "│       │ \u001b[90mString\u001b[39m                                                  │\n",
       "├───────┼─────────────────────────────────────────────────────────┤\n",
       "│ 1     │ 1.2.276.0.7230010.3.1.4.8323329.5597.1517875188.959090  │\n",
       "│ 2     │ 1.2.276.0.7230010.3.1.4.8323329.12515.1517875239.501137 │\n",
       "│ 3     │ 1.2.276.0.7230010.3.1.4.8323329.4904.1517875185.355709  │\n",
       "│ 4     │ 1.2.276.0.7230010.3.1.4.8323329.32579.1517875161.299312 │\n",
       "│ 5     │ 1.2.276.0.7230010.3.1.4.8323329.32579.1517875161.299312 │\n",
       "│ 6     │ 1.2.276.0.7230010.3.1.4.8323329.32579.1517875161.299312 │\n",
       "│ 7     │ 1.2.276.0.7230010.3.1.4.8323329.32579.1517875161.299312 │\n",
       "│ 8     │ 1.2.276.0.7230010.3.1.4.8323329.1314.1517875167.222290  │\n",
       "│ 9     │ 1.2.276.0.7230010.3.1.4.8323329.11364.1517875232.606684 │\n",
       "│ 10    │ 1.2.276.0.7230010.3.1.4.8323329.4541.1517875183.370160  │\n",
       "⋮\n",
       "│ 11572 │ 1.2.276.0.7230010.3.1.4.8323329.1805.1517875169.650570  │\n",
       "│ 11573 │ 1.2.276.0.7230010.3.1.4.8323329.32260.1517875159.278237 │\n",
       "│ 11574 │ 1.2.276.0.7230010.3.1.4.8323329.1172.1517875166.624365  │\n",
       "│ 11575 │ 1.2.276.0.7230010.3.1.4.8323329.1723.1517875169.107832  │\n",
       "│ 11576 │ 1.2.276.0.7230010.3.1.4.8323329.32459.1517875160.716198 │\n",
       "│ 11577 │ 1.2.276.0.7230010.3.1.4.8323329.4461.1517875182.971843  │\n",
       "│ 11578 │ 1.2.276.0.7230010.3.1.4.8323329.4461.1517875182.971843  │\n",
       "│ 11579 │ 1.2.276.0.7230010.3.1.4.8323329.4461.1517875182.971843  │\n",
       "│ 11580 │ 1.2.276.0.7230010.3.1.4.8323329.32730.1517875162.25023  │\n",
       "│ 11581 │ 1.2.276.0.7230010.3.1.4.8323329.13252.1517875244.359912 │\n",
       "│ 11582 │ 1.2.276.0.7230010.3.1.4.8323329.12050.1517875237.113402 │), Base.Iterators.PartitionIterator{Array{String,1}}([\"D:/code/kaggle/data/train-test/dicom-images-train/1.2.276.0.7230010.3.1.2.8323329.1000.1517875165.878026/1.2.276.0.7230010.3.1.3.8323329.1000.1517875165.878025/1.2.276.0.7230010.3.1.4.8323329.1000.1517875165.878027.dcm\", \"D:/code/kaggle/data/train-test/dicom-images-train/1.2.276.0.7230010.3.1.2.8323329.10000.1517875220.938529/1.2.276.0.7230010.3.1.3.8323329.10000.1517875220.938528/1.2.276.0.7230010.3.1.4.8323329.10000.1517875220.938530.dcm\", \"D:/code/kaggle/data/train-test/dicom-images-train/1.2.276.0.7230010.3.1.2.8323329.10001.1517875220.930579/1.2.276.0.7230010.3.1.3.8323329.10001.1517875220.930578/1.2.276.0.7230010.3.1.4.8323329.10001.1517875220.930580.dcm\", \"D:/code/kaggle/data/train-test/dicom-images-train/1.2.276.0.7230010.3.1.2.8323329.10002.1517875220.939396/1.2.276.0.7230010.3.1.3.8323329.10002.1517875220.939395/1.2.276.0.7230010.3.1.4.8323329.10002.1517875220.939397.dcm\", \"D:/code/kaggle/data/train-test/dicom-images-train/1.2.276.0.7230010.3.1.2.8323329.10003.1517875220.942419/1.2.276.0.7230010.3.1.3.8323329.10003.1517875220.942418/1.2.276.0.7230010.3.1.4.8323329.10003.1517875220.942420.dcm\", \"D:/code/kaggle/data/train-test/dicom-images-train/1.2.276.0.7230010.3.1.2.8323329.10004.1517875220.929536/1.2.276.0.7230010.3.1.3.8323329.10004.1517875220.929535/1.2.276.0.7230010.3.1.4.8323329.10004.1517875220.929537.dcm\", \"D:/code/kaggle/data/train-test/dicom-images-train/1.2.276.0.7230010.3.1.2.8323329.10005.1517875220.958950/1.2.276.0.7230010.3.1.3.8323329.10005.1517875220.958949/1.2.276.0.7230010.3.1.4.8323329.10005.1517875220.958951.dcm\", \"D:/code/kaggle/data/train-test/dicom-images-train/1.2.276.0.7230010.3.1.2.8323329.10006.1517875220.954473/1.2.276.0.7230010.3.1.3.8323329.10006.1517875220.954472/1.2.276.0.7230010.3.1.4.8323329.10006.1517875220.954474.dcm\", \"D:/code/kaggle/data/train-test/dicom-images-train/1.2.276.0.7230010.3.1.2.8323329.10007.1517875220.954766/1.2.276.0.7230010.3.1.3.8323329.10007.1517875220.954765/1.2.276.0.7230010.3.1.4.8323329.10007.1517875220.954767.dcm\", \"D:/code/kaggle/data/train-test/dicom-images-train/1.2.276.0.7230010.3.1.2.8323329.10008.1517875220.957632/1.2.276.0.7230010.3.1.3.8323329.10008.1517875220.957631/1.2.276.0.7230010.3.1.4.8323329.10008.1517875220.957633.dcm\"  …  \"D:/code/kaggle/data/train-test/dicom-images-train/1.2.276.0.7230010.3.1.2.8323329.5788.1517875190.602700/1.2.276.0.7230010.3.1.3.8323329.5788.1517875190.602699/1.2.276.0.7230010.3.1.4.8323329.5788.1517875190.602701.dcm\", \"D:/code/kaggle/data/train-test/dicom-images-train/1.2.276.0.7230010.3.1.2.8323329.5789.1517875190.643989/1.2.276.0.7230010.3.1.3.8323329.5789.1517875190.643988/1.2.276.0.7230010.3.1.4.8323329.5789.1517875190.643990.dcm\", \"D:/code/kaggle/data/train-test/dicom-images-train/1.2.276.0.7230010.3.1.2.8323329.579.1517875163.536412/1.2.276.0.7230010.3.1.3.8323329.579.1517875163.536411/1.2.276.0.7230010.3.1.4.8323329.579.1517875163.536413.dcm\", \"D:/code/kaggle/data/train-test/dicom-images-train/1.2.276.0.7230010.3.1.2.8323329.5790.1517875190.692753/1.2.276.0.7230010.3.1.3.8323329.5790.1517875190.692752/1.2.276.0.7230010.3.1.4.8323329.5790.1517875190.692754.dcm\", \"D:/code/kaggle/data/train-test/dicom-images-train/1.2.276.0.7230010.3.1.2.8323329.5791.1517875190.718153/1.2.276.0.7230010.3.1.3.8323329.5791.1517875190.718152/1.2.276.0.7230010.3.1.4.8323329.5791.1517875190.718154.dcm\", \"D:/code/kaggle/data/train-test/dicom-images-train/1.2.276.0.7230010.3.1.2.8323329.5792.1517875190.729125/1.2.276.0.7230010.3.1.3.8323329.5792.1517875190.729124/1.2.276.0.7230010.3.1.4.8323329.5792.1517875190.729126.dcm\", \"D:/code/kaggle/data/train-test/dicom-images-train/1.2.276.0.7230010.3.1.2.8323329.5793.1517875190.751052/1.2.276.0.7230010.3.1.3.8323329.5793.1517875190.751051/1.2.276.0.7230010.3.1.4.8323329.5793.1517875190.751053.dcm\", \"D:/code/kaggle/data/train-test/dicom-images-train/1.2.276.0.7230010.3.1.2.8323329.5794.1517875190.764401/1.2.276.0.7230010.3.1.3.8323329.5794.1517875190.764400/1.2.276.0.7230010.3.1.4.8323329.5794.1517875190.764402.dcm\", \"D:/code/kaggle/data/train-test/dicom-images-train/1.2.276.0.7230010.3.1.2.8323329.5795.1517875190.759171/1.2.276.0.7230010.3.1.3.8323329.5795.1517875190.759170/1.2.276.0.7230010.3.1.4.8323329.5795.1517875190.759172.dcm\", \"D:/code/kaggle/data/train-test/dicom-images-train/1.2.276.0.7230010.3.1.2.8323329.5796.1517875190.763844/1.2.276.0.7230010.3.1.3.8323329.5796.1517875190.763843/1.2.276.0.7230010.3.1.4.8323329.5796.1517875190.763845.dcm\"], 8))"
      ]
     },
     "execution_count": 33,
     "metadata": {},
     "output_type": "execute_result"
    }
   ],
   "source": [
    "imgpaths = loadimgpaths(\"D:/code/kaggle/data/train-test/dicom-images-train\")\n",
    "rle = CSV.read(\"D:/code/kaggle/data/train-test/train-rle.csv\")\n",
    "loader = dataloader(imgpaths, rle, 8; imsize = (128,128))"
   ]
  },
  {
   "cell_type": "code",
   "execution_count": 34,
   "metadata": {},
   "outputs": [
    {
     "ename": "OutOfMemoryError",
     "evalue": "OutOfMemoryError()",
     "output_type": "error",
     "traceback": [
      "OutOfMemoryError()",
      "",
      "Stacktrace:",
      " [1] try_alloc(::Int64, ::Int64) at C:\\Users\\jules\\.julia\\packages\\CuArrays\\PwSdF\\src\\memory.jl:344",
      " [2] macro expansion at C:\\Users\\jules\\.julia\\packages\\TimerOutputs\\7zSea\\src\\TimerOutput.jl:216 [inlined]",
      " [3] (::getfield(CuArrays, Symbol(\"##15#16\")))() at C:\\Users\\jules\\.julia\\packages\\CuArrays\\PwSdF\\src\\memory.jl:369",
      " [4] lock(::getfield(CuArrays, Symbol(\"##15#16\")), ::ReentrantLock) at .\\lock.jl:101",
      " [5] macro expansion at C:\\Users\\jules\\.julia\\packages\\CuArrays\\PwSdF\\src\\memory.jl:368 [inlined]",
      " [6] macro expansion at .\\util.jl:213 [inlined]",
      " [7] alloc(::Int64) at C:\\Users\\jules\\.julia\\packages\\CuArrays\\PwSdF\\src\\memory.jl:358",
      " [8] CuArray{Float32,4}(::UndefInitializer, ::NTuple{4,Int64}) at C:\\Users\\jules\\.julia\\packages\\CuArrays\\PwSdF\\src\\array.jl:38",
      " [9] Type at C:\\Users\\jules\\.julia\\packages\\CuArrays\\PwSdF\\src\\array.jl:45 [inlined]",
      " [10] similar at .\\abstractarray.jl:618 [inlined]",
      " [11] similar at .\\abstractarray.jl:617 [inlined]",
      " [12] similar at C:\\Users\\jules\\.julia\\packages\\CuArrays\\PwSdF\\src\\broadcast.jl:6 [inlined]",
      " [13] copy at .\\broadcast.jl:773 [inlined]",
      " [14] materialize at .\\broadcast.jl:753 [inlined]",
      " [15] broadcast(::getfield(Base.Broadcast, Symbol(\"##2#4\")){getfield(Base.Broadcast, Symbol(\"##8#10\")){getfield(Base.Broadcast, Symbol(\"##1#3\")),getfield(Base.Broadcast, Symbol(\"##5#6\")){getfield(Base.Broadcast, Symbol(\"##5#6\")){getfield(Base.Broadcast, Symbol(\"##7#9\"))}},getfield(Base.Broadcast, Symbol(\"##11#12\")){getfield(Base.Broadcast, Symbol(\"##11#12\")){getfield(Base.Broadcast, Symbol(\"##13#14\"))}},getfield(Base.Broadcast, Symbol(\"##15#16\")){getfield(Base.Broadcast, Symbol(\"##15#16\")){getfield(Base.Broadcast, Symbol(\"##17#18\"))}},typeof(+)},typeof(relu)}, ::CuArray{Float32,4}, ::CuArray{Float32,4}) at .\\broadcast.jl:707",
      " [16] ∇broadcast(::getfield(Base.Broadcast, Symbol(\"##2#4\")){getfield(Base.Broadcast, Symbol(\"##8#10\")){getfield(Base.Broadcast, Symbol(\"##1#3\")),getfield(Base.Broadcast, Symbol(\"##5#6\")){getfield(Base.Broadcast, Symbol(\"##5#6\")){getfield(Base.Broadcast, Symbol(\"##7#9\"))}},getfield(Base.Broadcast, Symbol(\"##11#12\")){getfield(Base.Broadcast, Symbol(\"##11#12\")){getfield(Base.Broadcast, Symbol(\"##13#14\"))}},getfield(Base.Broadcast, Symbol(\"##15#16\")){getfield(Base.Broadcast, Symbol(\"##15#16\")){getfield(Base.Broadcast, Symbol(\"##17#18\"))}},typeof(+)},typeof(relu)}, ::TrackedArray{…,CuArray{Float32,4}}, ::TrackedArray{…,CuArray{Float32,4}}) at C:\\Users\\jules\\.julia\\packages\\Tracker\\RRYy6\\src\\lib\\array.jl:484",
      " [17] copy(::Base.Broadcast.Broadcasted{Tracker.TrackedStyle,NTuple{4,Base.OneTo{Int64}},typeof(relu),Tuple{Base.Broadcast.Broadcasted{Tracker.TrackedStyle,Nothing,typeof(+),Tuple{TrackedArray{…,CuArray{Float32,4}},TrackedArray{…,CuArray{Float32,4}}}}}}) at C:\\Users\\jules\\.julia\\packages\\Tracker\\RRYy6\\src\\lib\\array.jl:515",
      " [18] materialize(::Base.Broadcast.Broadcasted{Tracker.TrackedStyle,Nothing,typeof(relu),Tuple{Base.Broadcast.Broadcasted{Tracker.TrackedStyle,Nothing,typeof(+),Tuple{TrackedArray{…,CuArray{Float32,4}},TrackedArray{…,CuArray{Float32,4}}}}}}) at .\\broadcast.jl:753",
      " [19] (::Conv{2,2,typeof(relu),TrackedArray{…,CuArray{Float32,4}},TrackedArray{…,CuArray{Float32,1}}})(::TrackedArray{…,CuArray{Float32,4}}) at C:\\Users\\jules\\.julia\\packages\\Flux\\qXNjB\\src\\layers\\conv.jl:55",
      " [20] applychain(::Tuple{Conv{2,2,typeof(relu),TrackedArray{…,CuArray{Float32,4}},TrackedArray{…,CuArray{Float32,1}}}}, ::TrackedArray{…,CuArray{Float32,4}}) at C:\\Users\\jules\\.julia\\packages\\Flux\\qXNjB\\src\\layers\\basic.jl:31 (repeats 2 times)",
      " [21] (::Chain{Tuple{Conv{2,2,typeof(relu),TrackedArray{…,CuArray{Float32,4}},TrackedArray{…,CuArray{Float32,1}}},Conv{2,2,typeof(relu),TrackedArray{…,CuArray{Float32,4}},TrackedArray{…,CuArray{Float32,1}}}}})(::TrackedArray{…,CuArray{Float32,4}}) at C:\\Users\\jules\\.julia\\packages\\Flux\\qXNjB\\src\\layers\\basic.jl:33",
      " [22] (::UNet)(::CuArray{Float32,4}) at .\\In[4]:47",
      " [23] top-level scope at In[34]:1"
     ]
    }
   ],
   "source": [
    "test(gpu(first(loader)[1]))"
   ]
  },
  {
   "cell_type": "code",
   "execution_count": 13,
   "metadata": {},
   "outputs": [
    {
     "ename": "MethodError",
     "evalue": "MethodError: no method matching getindex(::getfield(Main, Symbol(\"##19#21\")), ::Int64)\nClosest candidates are:\n  getindex(::Any, !Matched::AbstractTrees.ImplicitRootState) at C:\\Users\\jules\\.julia\\packages\\AbstractTrees\\z1wBY\\src\\AbstractTrees.jl:344",
     "output_type": "error",
     "traceback": [
      "MethodError: no method matching getindex(::getfield(Main, Symbol(\"##19#21\")), ::Int64)\nClosest candidates are:\n  getindex(::Any, !Matched::AbstractTrees.ImplicitRootState) at C:\\Users\\jules\\.julia\\packages\\AbstractTrees\\z1wBY\\src\\AbstractTrees.jl:344",
      "",
      "Stacktrace:",
      " [1] top-level scope at In[13]:1"
     ]
    }
   ],
   "source": [
    "first(loader)[1]"
   ]
  },
  {
   "cell_type": "code",
   "execution_count": null,
   "metadata": {},
   "outputs": [],
   "source": []
  }
 ],
 "metadata": {
  "kernelspec": {
   "display_name": "Julia 1.1.0",
   "language": "julia",
   "name": "julia-1.1"
  },
  "language_info": {
   "file_extension": ".jl",
   "mimetype": "application/julia",
   "name": "julia",
   "version": "1.1.0"
  }
 },
 "nbformat": 4,
 "nbformat_minor": 2
}
